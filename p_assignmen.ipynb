{
 "cells": [
  {
   "cell_type": "markdown",
   "metadata": {},
   "source": [
    "\n",
    "Q1>>Write a code to reverse a string."
   ]
  },
  {
   "cell_type": "code",
   "execution_count": 1,
   "metadata": {},
   "outputs": [
    {
     "name": "stdout",
     "output_type": "stream",
     "text": [
      "amrahs ardnejag\n"
     ]
    }
   ],
   "source": [
    "s=\"gajendra sharma\"\n",
    "print(s[::-1])"
   ]
  },
  {
   "cell_type": "markdown",
   "metadata": {},
   "source": [
    "Q2>>Write a code to count the number of vowels in a string."
   ]
  },
  {
   "cell_type": "code",
   "execution_count": 1,
   "metadata": {},
   "outputs": [
    {
     "name": "stdout",
     "output_type": "stream",
     "text": [
      "the no of vowels in given string is 12\n"
     ]
    }
   ],
   "source": [
    "p=\"i am here to learn data science\"\n",
    "v=0\n",
    "for ch in p:\n",
    "    if ch in \"aeiouAEIOU\":\n",
    "        v=v+1\n",
    "print(\"the no of vowels in given string is\",v)        "
   ]
  },
  {
   "cell_type": "markdown",
   "metadata": {},
   "source": [
    "Q3>>Write a code to check if a given string is a palindrome or not."
   ]
  },
  {
   "cell_type": "code",
   "execution_count": 5,
   "metadata": {},
   "outputs": [
    {
     "name": "stdout",
     "output_type": "stream",
     "text": [
      "the string is palindrome\n"
     ]
    }
   ],
   "source": [
    "a=\"nitin\"\n",
    "b=a[::-1]\n",
    "if a==b:\n",
    "    print(\"the string is palindrome\")\n",
    "else:\n",
    "    print(\"the string is not palindrome\")   \n",
    "\n"
   ]
  },
  {
   "cell_type": "markdown",
   "metadata": {},
   "source": [
    "Q4>>Write a code to check if two given strings are anagrams of each other.\n"
   ]
  },
  {
   "cell_type": "code",
   "execution_count": 7,
   "metadata": {},
   "outputs": [
    {
     "name": "stdout",
     "output_type": "stream",
     "text": [
      "given strings are anagram with each other\n"
     ]
    }
   ],
   "source": [
    "a=\"abc\"\n",
    "b=\"bca\"\n",
    "if len(a)!=len(b):\n",
    "    print(\"given strings are not anagram with each other\")\n",
    "else:\n",
    "    if sorted(a)==sorted(b):\n",
    "        print(\"given strings are anagram with each other\")  \n",
    "    else:\n",
    "        print(\"given strings are not anagram with each other\")\n"
   ]
  },
  {
   "cell_type": "markdown",
   "metadata": {},
   "source": [
    "Q5>>Write a code to find all occurrences of a given substring within another string."
   ]
  },
  {
   "cell_type": "code",
   "execution_count": 9,
   "metadata": {},
   "outputs": [
    {
     "name": "stdout",
     "output_type": "stream",
     "text": [
      "['p', 'pw', 'pws', 'pwsk', 'pwski', 'pwskil', 'pwskill', 'pwskills', 'w', 'ws', 'wsk', 'wski', 'wskil', 'wskill', 'wskills', 's', 'sk', 'ski', 'skil', 'skill', 'skills', 'k', 'ki', 'kil', 'kill', 'kills', 'i', 'il', 'ill', 'ills', 'l', 'll', 'lls', 'l', 'ls', 's']\n"
     ]
    }
   ],
   "source": [
    "str1=\"pwskills\"\n",
    "subs=[]\n",
    "for i in range(0,len(str1)):\n",
    "    for j in range(i+1,len(str1)+1):\n",
    "        subs.append(str1[i:j])\n",
    "print(subs)        \n"
   ]
  },
  {
   "cell_type": "markdown",
   "metadata": {},
   "source": [
    "Q6>>Write a code to perform basic string compression using the counts of repeated characters."
   ]
  },
  {
   "cell_type": "code",
   "execution_count": 10,
   "metadata": {},
   "outputs": [
    {
     "name": "stdout",
     "output_type": "stream",
     "text": [
      " 4A5B2C1D\n"
     ]
    }
   ],
   "source": [
    "str1=\"AAAABBBBBCCD\"\n",
    "ch=str1[0]\n",
    "result=\" \"\n",
    "count=0\n",
    "str1=str1+\" \"\n",
    "for x in str1:\n",
    "    if ch==x:\n",
    "        count+=1\n",
    "    else:\n",
    "        result=result+str(count)+str(ch)\n",
    "        ch=x\n",
    "        count=1\n",
    "print(result)           \n"
   ]
  },
  {
   "cell_type": "markdown",
   "metadata": {},
   "source": [
    "Q7>>Write a code to determine if a string has all unique characters."
   ]
  },
  {
   "cell_type": "code",
   "execution_count": 14,
   "metadata": {},
   "outputs": [
    {
     "name": "stdout",
     "output_type": "stream",
     "text": [
      "True\n"
     ]
    }
   ],
   "source": [
    "\n",
    "def check_unique(string):\n",
    "    unique_characters=[]\n",
    "    for character in string:\n",
    "        if character in unique_characters:\n",
    "            return False\n",
    "        else:\n",
    "            unique_characters.append(character)\n",
    "    return True\n",
    "print(check_unique(\"abcd\"))        \n",
    "\n"
   ]
  },
  {
   "cell_type": "markdown",
   "metadata": {},
   "source": [
    "Q8>>Write a code to convert a given string to uppercase or lowercase."
   ]
  },
  {
   "cell_type": "code",
   "execution_count": 15,
   "metadata": {},
   "outputs": [
    {
     "name": "stdout",
     "output_type": "stream",
     "text": [
      "GAJENDRA SHARMA\n"
     ]
    }
   ],
   "source": [
    "string=\"gajendra sharma\"\n",
    "a=string.upper()\n",
    "print(a)\n"
   ]
  },
  {
   "cell_type": "markdown",
   "metadata": {},
   "source": [
    "Q9>>Write a code to count the number of words in a string."
   ]
  },
  {
   "cell_type": "code",
   "execution_count": 18,
   "metadata": {},
   "outputs": [
    {
     "name": "stdout",
     "output_type": "stream",
     "text": [
      "the no of words in given list is: 11\n"
     ]
    }
   ],
   "source": [
    "string=\"i am here to learn data science with generative with ai\"\n",
    "a=string.split()\n",
    "print(f\"the no of words in given list is: {len(a)}\")"
   ]
  },
  {
   "cell_type": "markdown",
   "metadata": {},
   "source": [
    "Q10>>Write a code to concatenate two strings without using the + operator."
   ]
  },
  {
   "cell_type": "code",
   "execution_count": 21,
   "metadata": {},
   "outputs": [
    {
     "name": "stdout",
     "output_type": "stream",
     "text": [
      "concatinated string is:  pw skills data science\n"
     ]
    }
   ],
   "source": [
    "def concatinate_strings(str1,str2):\n",
    "    concatinated_string=\"\"\n",
    "\n",
    "    for char in str1:\n",
    "        concatinated_string+=char\n",
    "    for char in str2:\n",
    "        concatinated_string+=char   \n",
    "    return concatinated_string\n",
    "string1=\"pw skills\"\n",
    "string2=\" data science\"  \n",
    "result=concatinate_strings(string1,string2)\n",
    "print(\"concatinated string is: \",result)\n",
    "\n"
   ]
  },
  {
   "cell_type": "markdown",
   "metadata": {},
   "source": [
    "Q11>> Write a code to remove all occurrences of a specific element from a list."
   ]
  },
  {
   "cell_type": "code",
   "execution_count": 22,
   "metadata": {},
   "outputs": [
    {
     "name": "stdout",
     "output_type": "stream",
     "text": [
      "[1, 2, 3, 34, 6, 7, 8.9]\n"
     ]
    }
   ],
   "source": [
    "nums=[1,2,3,34,5,5,5,6,7,8.9]\n",
    "numb=[element for element in nums if element!=5]\n",
    "print(numb)"
   ]
  },
  {
   "cell_type": "markdown",
   "metadata": {},
   "source": [
    "Q12>>Implement a code to find the second largest number in a given list of integers."
   ]
  },
  {
   "cell_type": "code",
   "execution_count": 24,
   "metadata": {},
   "outputs": [
    {
     "name": "stdout",
     "output_type": "stream",
     "text": [
      "The second largest number is: 55\n"
     ]
    }
   ],
   "source": [
    "def find_second_largest(numbers):\n",
    "    unique_numbers = list(set(numbers))\n",
    "    unique_numbers.sort()\n",
    "\n",
    "    if len(unique_numbers) < 2:\n",
    "        return None \n",
    "    return unique_numbers[-2] \n",
    "\n",
    "numbers = [1,2,34,55,90,54,23,32,13]\n",
    "second_largest = find_second_largest(numbers)\n",
    "print(\"The second largest number is:\", second_largest)"
   ]
  },
  {
   "cell_type": "markdown",
   "metadata": {},
   "source": [
    "Q13>>Create a code to count the occurrences of each element in a list and return a dictionary with elements as\n",
    "keys and their counts as values."
   ]
  },
  {
   "cell_type": "code",
   "execution_count": null,
   "metadata": {},
   "outputs": [
    {
     "name": "stdout",
     "output_type": "stream",
     "text": [
      "Occurrences of each element: {1: 4, 2: 2, 3: 2, 4: 1, 5: 2, 'krish': 2, 'mohit': 1}\n"
     ]
    }
   ],
   "source": [
    "from collections import Counter\n",
    "\n",
    "def count_occurrences(elements):\n",
    "    return dict(Counter(elements))\n",
    "\n",
    "elements = [1,1,1,1,2,2,3,3,4,5,5,\"krish\",\"krish\",\"mohit\"]\n",
    "occurrences = count_occurrences(elements)\n",
    "print(\"Occurrences of each element:\", occurrences)"
   ]
  },
  {
   "cell_type": "markdown",
   "metadata": {},
   "source": [
    "Q14>>Write a code to reverse a list in-place without using any built-in reverse functions"
   ]
  },
  {
   "cell_type": "code",
   "execution_count": 27,
   "metadata": {},
   "outputs": [
    {
     "name": "stdout",
     "output_type": "stream",
     "text": [
      "Reversed list: [5, 4, 3, 2, 1]\n"
     ]
    }
   ],
   "source": [
    "def reverse_list_in_place(lst):\n",
    "    left = 0\n",
    "    right = len(lst) - 1\n",
    "\n",
    "    while left < right:\n",
    "        lst[left], lst[right] = lst[right], lst[left]\n",
    "        left += 1\n",
    "        right -= 1\n",
    "\n",
    "my_list = [1, 2, 3, 4, 5]\n",
    "reverse_list_in_place(my_list)\n",
    "print(\"Reversed list:\", my_list)\n"
   ]
  },
  {
   "cell_type": "markdown",
   "metadata": {},
   "source": [
    "Q15>>Implement a code to find and remove duplicates from a list while preserving the original order of elements.\n"
   ]
  },
  {
   "cell_type": "code",
   "execution_count": 28,
   "metadata": {},
   "outputs": [
    {
     "name": "stdout",
     "output_type": "stream",
     "text": [
      "List without duplicates: [1, 2, 3, 4, 5]\n"
     ]
    }
   ],
   "source": [
    "def remove_duplicates(original_list):\n",
    "    seen = set()  \n",
    "    result = []\n",
    "\n",
    "    for item in original_list:\n",
    "        if item not in seen:\n",
    "            seen.add(item) \n",
    "            result.append(item)  \n",
    "\n",
    "    return result\n",
    "\n",
    "my_list = [1, 2, 3, 2, 4, 3, 5, 1]\n",
    "unique_list = remove_duplicates(my_list)\n",
    "print(\"List without duplicates:\", unique_list)"
   ]
  },
  {
   "cell_type": "markdown",
   "metadata": {},
   "source": [
    "Q16>>Create a code to check if a given list is sorted (either in ascending or descending order) or not."
   ]
  },
  {
   "cell_type": "code",
   "execution_count": 29,
   "metadata": {},
   "outputs": [
    {
     "name": "stdout",
     "output_type": "stream",
     "text": [
      "The list is sorted in ascending order.\n",
      "The list is sorted in descending order.\n",
      "The list is not sorted.\n"
     ]
    }
   ],
   "source": [
    "def is_sorted(lst):\n",
    "    if lst == sorted(lst):\n",
    "        return \"The list is sorted in ascending order.\"\n",
    "    elif lst == sorted(lst, reverse=True):\n",
    "        return \"The list is sorted in descending order.\"\n",
    "    else:\n",
    "        return \"The list is not sorted.\"\n",
    "\n",
    "my_list_asc = [1, 2, 3, 4, 5]\n",
    "my_list_desc = [5, 4, 3, 2, 1]\n",
    "my_list_unsorted = [1, 3, 2, 4]\n",
    "\n",
    "print(is_sorted(my_list_asc))      \n",
    "print(is_sorted(my_list_desc))     \n",
    "print(is_sorted(my_list_unsorted))"
   ]
  },
  {
   "cell_type": "markdown",
   "metadata": {},
   "source": [
    "Q17>>Write a code to merge two sorted lists into a single sorted list."
   ]
  },
  {
   "cell_type": "code",
   "execution_count": 34,
   "metadata": {},
   "outputs": [
    {
     "name": "stdout",
     "output_type": "stream",
     "text": [
      "Merged sorted list: [1, 2, 3, 4, 5, 6, 7, 8]\n"
     ]
    }
   ],
   "source": [
    "list1 = [1, 3, 5, 7]\n",
    "list2 = [2, 4, 6, 8]\n",
    "i, j = 0, 0\n",
    "merged_list = []\n",
    "while i < len(list1) and j < len(list2):\n",
    "    if list1[i] < list2[j]:\n",
    "        merged_list.append(list1[i])\n",
    "        i += 1\n",
    "    else:\n",
    "        merged_list.append(list2[j])\n",
    "        j += 1\n",
    "while i < len(list1):\n",
    "    merged_list.append(list1[i])\n",
    "    i += 1\n",
    "while j < len(list2):\n",
    "    merged_list.append(list2[j])\n",
    "    j += 1\n",
    "print(\"Merged sorted list:\", merged_list)\n",
    "a"
   ]
  },
  {
   "cell_type": "markdown",
   "metadata": {},
   "source": [
    "Q18>>Implement a code to find the intersection of two given lists."
   ]
  },
  {
   "cell_type": "code",
   "execution_count": null,
   "metadata": {},
   "outputs": [
    {
     "name": "stdout",
     "output_type": "stream",
     "text": [
      "Intersection of the two lists: [4, 5]\n"
     ]
    }
   ],
   "source": [
    "list1 = [1, 2, 3, 4, 5]\n",
    "list2 = [4, 5, 6, 7, 8]\n",
    "intersection = list(set(list1) & set(list2))\n",
    "print(\"Intersection of the two lists:\", intersection)"
   ]
  },
  {
   "cell_type": "markdown",
   "metadata": {},
   "source": [
    "Q19>>Create a code to find the union of two lists without duplicates."
   ]
  },
  {
   "cell_type": "code",
   "execution_count": 40,
   "metadata": {},
   "outputs": [
    {
     "name": "stdout",
     "output_type": "stream",
     "text": [
      "Union of the two lists: [1, 2, 3, 4, 5, 6, 7, 8]\n"
     ]
    }
   ],
   "source": [
    "list1 = [1, 2, 3, 4, 5]\n",
    "list2 = [4, 5, 6, 7, 8]\n",
    "union = set(list1).union(set(list2))\n",
    "union_list = list(union)\n",
    "\n",
    "print(\"Union of the two lists:\", union_list)"
   ]
  },
  {
   "cell_type": "markdown",
   "metadata": {},
   "source": [
    "20>>Write a code to shuffle a given list randomly without using any built-in shuffle functions\u0012"
   ]
  },
  {
   "cell_type": "code",
   "execution_count": 1,
   "metadata": {},
   "outputs": [
    {
     "name": "stdout",
     "output_type": "stream",
     "text": [
      "Original list: [1, 2, 3, 4, 5]\n",
      "Shuffled list: [3, 4, 5, 2, 1]\n"
     ]
    }
   ],
   "source": [
    "import random\n",
    "\n",
    "def shuffle_list(input_list):\n",
    "    shuffled_list = input_list.copy()\n",
    "    n = len(shuffled_list)\n",
    "\n",
    "    \n",
    "    for i in range(n - 1, 0, -1):\n",
    "        \n",
    "        j = random.randint(0, i)\n",
    "        shuffled_list[i], shuffled_list[j] = shuffled_list[j], shuffled_list[i]\n",
    "\n",
    "    return shuffled_list\n",
    "\n",
    "original_list = [1, 2, 3, 4, 5]\n",
    "shuffled = shuffle_list(original_list)\n",
    "\n",
    "print(\"Original list:\", original_list)\n",
    "print(\"Shuffled list:\", shuffled)"
   ]
  },
  {
   "cell_type": "markdown",
   "metadata": {},
   "source": [
    "Q21>>Write a code that takes two tuples as input and returns a new tuple containing elements that are\n",
    "common to both input tuples."
   ]
  },
  {
   "cell_type": "code",
   "execution_count": 2,
   "metadata": {},
   "outputs": [
    {
     "name": "stdout",
     "output_type": "stream",
     "text": [
      "(4, 5)\n"
     ]
    }
   ],
   "source": [
    "def common_elements(tuple1, tuple2):\n",
    "    common_set = set(tuple1) & set(tuple2)\n",
    "    return tuple(common_set)\n",
    "\n",
    "tuple1 = (1, 2, 3, 4, 5)\n",
    "tuple2 = (4, 5, 6, 7, 8)\n",
    "result = common_elements(tuple1, tuple2)\n",
    "print(result) "
   ]
  },
  {
   "cell_type": "markdown",
   "metadata": {},
   "source": [
    "Q22>>Create a code that prompts the user to enter two sets of integers separated by commas. Then, print the\n",
    "intersection of these two sets."
   ]
  },
  {
   "cell_type": "code",
   "execution_count": 3,
   "metadata": {},
   "outputs": [
    {
     "name": "stdin",
     "output_type": "stream",
     "text": [
      "Enter the first set of integers (separated by commas):  34,45,56,1,2,7,89\n",
      "Enter the second set of integers (separated by commas):  45,56,2,67,77,88,99\n"
     ]
    },
    {
     "name": "stdout",
     "output_type": "stream",
     "text": [
      "The intersection of the two sets is: {56, 2, 45}\n"
     ]
    }
   ],
   "source": [
    "def get_set_from_input(prompt):\n",
    "    user_input = input(prompt)\n",
    "    return set(int(num.strip()) for num in user_input.split(','))\n",
    "\n",
    "def main():\n",
    "    set1 = get_set_from_input(\"Enter the first set of integers (separated by commas): \")\n",
    "    set2 = get_set_from_input(\"Enter the second set of integers (separated by commas): \")\n",
    "    \n",
    "    intersection = set1 & set2\n",
    "    print(\"The intersection of the two sets is:\", intersection)\n",
    "\n",
    "if __name__ == \"__main__\":\n",
    "    main()"
   ]
  },
  {
   "cell_type": "markdown",
   "metadata": {},
   "source": [
    "Q23>>Write a code to concatenate two tuples. The function should take two tuples as input and return a new\n",
    "tuple containing elements from both input tuples."
   ]
  },
  {
   "cell_type": "code",
   "execution_count": null,
   "metadata": {},
   "outputs": [],
   "source": []
  },
  {
   "cell_type": "markdown",
   "metadata": {},
   "source": [
    "Q24>>Develop a code that prompts the user to input two sets of strings. Then, print the elements that are\n",
    "present in the first set but not in the second set."
   ]
  },
  {
   "cell_type": "code",
   "execution_count": 3,
   "metadata": {},
   "outputs": [
    {
     "name": "stdin",
     "output_type": "stream",
     "text": [
      "Enter the first set of strings (separated by commas):  1,2,3,4,5,6,7,8\n",
      "Enter the second set of strings (separated by commas):  6,7,8,9,10,11,12\n"
     ]
    },
    {
     "name": "stdout",
     "output_type": "stream",
     "text": [
      "Elements in the first set but not in the second set: {'2', '5', '3', '4', '1'}\n"
     ]
    }
   ],
   "source": [
    "def get_set_from_input(prompt):\n",
    "   \n",
    "    user_input = input(prompt)\n",
    "  \n",
    "    return set(s.strip() for s in user_input.split(','))\n",
    "\n",
    "def main():\n",
    "    \n",
    "    set1 = get_set_from_input(\"Enter the first set of strings (separated by commas): \")\n",
    "    set2 = get_set_from_input(\"Enter the second set of strings (separated by commas): \")\n",
    "    \n",
    " \n",
    "    difference = set1 - set2\n",
    "    \n",
    "  \n",
    "    print(\"Elements in the first set but not in the second set:\", difference)\n",
    "\n",
    "if __name__ == \"__main__\":\n",
    "    main()"
   ]
  },
  {
   "cell_type": "markdown",
   "metadata": {},
   "source": [
    "Q25>>Create a code that takes a tuple and two integers as input. The function should return a new tuple\n",
    "containing elements from the original tuple within the specified range of indices."
   ]
  },
  {
   "cell_type": "code",
   "execution_count": 4,
   "metadata": {},
   "outputs": [
    {
     "name": "stdin",
     "output_type": "stream",
     "text": [
      "Enter the start index:  2\n",
      "Enter the end index:  4\n"
     ]
    },
    {
     "name": "stdout",
     "output_type": "stream",
     "text": [
      "The sliced tuple is: (30, 40)\n"
     ]
    }
   ],
   "source": [
    "def slice_tuple(original_tuple, start_index, end_index):\n",
    "    return original_tuple[start_index:end_index]\n",
    "\n",
    "if __name__ == \"__main__\":\n",
    "    original_tuple = (10, 20, 30, 40, 50, 60)\n",
    "    start_index = int(input(\"Enter the start index: \"))\n",
    "    end_index = int(input(\"Enter the end index: \"))\n",
    " \n",
    "    result = slice_tuple(original_tuple, start_index, end_index)\n",
    "    print(\"The sliced tuple is:\", result)"
   ]
  },
  {
   "cell_type": "markdown",
   "metadata": {},
   "source": [
    "Q26>>Write a code that prompts the user to input two sets of characters. Then, print the union of these two sets."
   ]
  },
  {
   "cell_type": "code",
   "execution_count": 2,
   "metadata": {},
   "outputs": [
    {
     "name": "stdin",
     "output_type": "stream",
     "text": [
      "Enter the first set of characters abcde\n",
      "Enter the second set of characters cdefg\n"
     ]
    },
    {
     "name": "stdout",
     "output_type": "stream",
     "text": [
      "The union of the two sets is: {'d', 'g', 'a', 'e', 'b', 'c', 'f'}\n"
     ]
    }
   ],
   "source": [
    "set1_input = input(\"Enter the first set of characters\")\n",
    "set1 = set(set1_input)\n",
    "set2_input = input(\"Enter the second set of characters\")\n",
    "\n",
    "set2 = set(set2_input)\n",
    "union_set = set1.union(set2)\n",
    "print(\"The union of the two sets is:\", union_set)"
   ]
  },
  {
   "cell_type": "markdown",
   "metadata": {},
   "source": [
    "Q27>>Develop a code that takes a tuple of integers as input. The function should return the maximum and\n",
    "minimum values from the tuple using tuple unpacking."
   ]
  },
  {
   "cell_type": "code",
   "execution_count": 3,
   "metadata": {},
   "outputs": [
    {
     "name": "stdin",
     "output_type": "stream",
     "text": [
      "Enter a tuple of integers (e.g., (1, 2, 3)):  1,2,3,4,5,6,7\n"
     ]
    },
    {
     "name": "stdout",
     "output_type": "stream",
     "text": [
      "Maximum value: 7\n",
      "Minimum value: 1\n"
     ]
    }
   ],
   "source": [
    "def find_max_min(numbers):\n",
    "    if not numbers:\n",
    "        return None, None\n",
    "\n",
    "    max_value = max(numbers)\n",
    "    min_value = min(numbers)\n",
    "    return max_value, min_value\n",
    "input_tuple = input(\"Enter a tuple of integers (e.g., (1, 2, 3)): \")\n",
    "\n",
    "numbers_tuple = eval(input_tuple)\n",
    "\n",
    "max_value, min_value = find_max_min(numbers_tuple)\n",
    "\n",
    "print(f\"Maximum value: {max_value}\")\n",
    "print(f\"Minimum value: {min_value}\")"
   ]
  },
  {
   "cell_type": "markdown",
   "metadata": {},
   "source": [
    "Q28>>Create a code that defines two sets of integers. Then, print the union, intersection, and difference of these\n",
    "two sets."
   ]
  },
  {
   "cell_type": "code",
   "execution_count": 4,
   "metadata": {},
   "outputs": [
    {
     "name": "stdout",
     "output_type": "stream",
     "text": [
      "Set 1: {1, 2, 3, 4, 5}\n",
      "Set 2: {4, 5, 6, 7, 8}\n",
      "Union of Set 1 and Set 2: {1, 2, 3, 4, 5, 6, 7, 8}\n",
      "Intersection of Set 1 and Set 2: {4, 5}\n",
      "Difference of Set 1 and Set 2 (Set 1 - Set 2): {1, 2, 3}\n",
      "Difference of Set 2 and Set 1 (Set 2 - Set 1): {8, 6, 7}\n"
     ]
    }
   ],
   "source": [
    "set1 = {1, 2, 3, 4, 5}\n",
    "set2 = {4, 5, 6, 7, 8}\n",
    "\n",
    "union_set = set1.union(set2)\n",
    "\n",
    "intersection_set = set1.intersection(set2)\n",
    "\n",
    "difference_set1_set2 = set1.difference(set2)\n",
    "\n",
    "difference_set2_set1 = set2.difference(set1)\n",
    "\n",
    "\n",
    "print(\"Set 1:\", set1)\n",
    "print(\"Set 2:\", set2)\n",
    "print(\"Union of Set 1 and Set 2:\", union_set)\n",
    "print(\"Intersection of Set 1 and Set 2:\", intersection_set)\n",
    "print(\"Difference of Set 1 and Set 2 (Set 1 - Set 2):\", difference_set1_set2)\n",
    "print(\"Difference of Set 2 and Set 1 (Set 2 - Set 1):\", difference_set2_set1)"
   ]
  },
  {
   "cell_type": "markdown",
   "metadata": {},
   "source": [
    "Q29>>Write a code that takes a tuple and an element as input. The function should return the count of\n",
    "occurrences of the given element in the tuple."
   ]
  },
  {
   "cell_type": "code",
   "execution_count": 4,
   "metadata": {},
   "outputs": [
    {
     "name": "stdin",
     "output_type": "stream",
     "text": [
      "Enter a tuple of elements (e.g., (1, 2, 3, 1)):  1,2,3,1,3,4,5,6\n",
      "Enter the element to count:  1\n"
     ]
    },
    {
     "name": "stdout",
     "output_type": "stream",
     "text": [
      "The element 1 occurs 0 times in the tuple.\n"
     ]
    }
   ],
   "source": [
    "def count_occurrences(tup, element):\n",
    "   \n",
    "    count = tup.count(element)\n",
    "    return count\n",
    "\n",
    "input_tuple = input(\"Enter a tuple of elements (e.g., (1, 2, 3, 1)): \")\n",
    "element_to_count = input(\"Enter the element to count: \")\n",
    "\n",
    "tup = eval(input_tuple)\n",
    "\n",
    "occurrences = count_occurrences(tup, element_to_count)\n",
    "\n",
    "\n",
    "print(f\"The element {element_to_count} occurs {occurrences} times in the tuple.\")"
   ]
  },
  {
   "cell_type": "markdown",
   "metadata": {},
   "source": [
    "Q30>>Develop a code that prompts the user to input two sets of strings. Then, print the symmetric difference of\n",
    "these two sets."
   ]
  },
  {
   "cell_type": "code",
   "execution_count": 6,
   "metadata": {},
   "outputs": [
    {
     "name": "stdin",
     "output_type": "stream",
     "text": [
      "Enter the first set of strings (comma-separated):  krish,piyush,mukesh,ajay,prem\n",
      "Enter the second set of strings (comma-separated):  prem,krish,bubam,shinchan\n"
     ]
    },
    {
     "name": "stdout",
     "output_type": "stream",
     "text": [
      "Set 1: {'piyush', 'mukesh', 'krish', 'prem', 'ajay'}\n",
      "Set 2: {'prem', 'krish', 'shinchan', 'bubam'}\n",
      "Symmetric difference of Set 1 and Set 2: {'piyush', 'bubam', 'mukesh', 'shinchan', 'ajay'}\n"
     ]
    }
   ],
   "source": [
    "def symmetric_difference_of_sets():\n",
    "\n",
    "    input_set1 = input(\"Enter the first set of strings (comma-separated): \")\n",
    "    \n",
    "    set1 = set(input_set1.split(','))\n",
    "\n",
    "   \n",
    "    input_set2 = input(\"Enter the second set of strings (comma-separated): \")\n",
    " \n",
    "    set2 = set(input_set2.split(','))\n",
    "\n",
    " \n",
    "    symmetric_difference = set1.symmetric_difference(set2)\n",
    "\n",
    "    print(\"Set 1:\", set1)\n",
    "    print(\"Set 2:\", set2)\n",
    "    print(\"Symmetric difference of Set 1 and Set 2:\", symmetric_difference)\n",
    "\n",
    "\n",
    "symmetric_difference_of_sets()"
   ]
  },
  {
   "cell_type": "markdown",
   "metadata": {},
   "source": [
    "Q31>>Write a code that takes a list of words as input and returns a dictionary where the keys are unique words\n",
    "and the values are the frequencies of those words in the input list."
   ]
  },
  {
   "cell_type": "code",
   "execution_count": 10,
   "metadata": {},
   "outputs": [
    {
     "name": "stdin",
     "output_type": "stream",
     "text": [
      "Enter a list of words (space-separated):  apple banana apple banana orange orange\n"
     ]
    },
    {
     "name": "stdout",
     "output_type": "stream",
     "text": [
      "Word Frequencies: {'apple': 2, 'banana': 2, 'orange': 2}\n"
     ]
    }
   ],
   "source": [
    "def word_frequencies(word_list):\n",
    "   \n",
    "    frequency_dict = {}\n",
    "\n",
    "   \n",
    "    for word in word_list:\n",
    "    \n",
    "        if word in frequency_dict:\n",
    "            frequency_dict[word] += 1\n",
    "        else:\n",
    "           \n",
    "            frequency_dict[word] = 1\n",
    "\n",
    "    return frequency_dict\n",
    "\n",
    "input_words = input(\"Enter a list of words (space-separated): \")\n",
    "\n",
    "\n",
    "word_list = input_words.split()\n",
    "\n",
    "\n",
    "frequencies = word_frequencies(word_list)\n",
    "\n",
    "print(\"Word Frequencies:\", frequencies)"
   ]
  },
  {
   "cell_type": "markdown",
   "metadata": {},
   "source": [
    "Q32>>Write a code that takes two dictionaries as input and merges them into a single dictionary. If there are\n",
    "common keys, the values should be added together"
   ]
  },
  {
   "cell_type": "code",
   "execution_count": 16,
   "metadata": {},
   "outputs": [
    {
     "name": "stdin",
     "output_type": "stream",
     "text": [
      "Enter the first dictionary (in the format {key1: value1, key2: value2}):  { 'apple': 2, 'banana': 3 }\n",
      "Enter the second dictionary (in the format {key1: value1, key2: value2}):  { 'banana': 1, 'orange': 4 }\n"
     ]
    },
    {
     "name": "stdout",
     "output_type": "stream",
     "text": [
      "Merged Dictionary: {'apple': 2, 'banana': 4, 'orange': 4}\n"
     ]
    }
   ],
   "source": [
    "def merge_dictionaries(dict1, dict2):\n",
    "    # Create a new dictionary to hold the merged result\n",
    "    merged_dict = dict1.copy()  # Start with the first dictionary\n",
    "\n",
    "    # Iterate through the second dictionary\n",
    "    for key, value in dict2.items():\n",
    "        if key in merged_dict:\n",
    "            # If the key exists in the merged dictionary, add the values\n",
    "            merged_dict[key] += value\n",
    "        else:\n",
    "            # If the key does not exist, add it to the merged dictionary\n",
    "            merged_dict[key] = value\n",
    "\n",
    "    return merged_dict\n",
    "\n",
    "# Input from the user for the first dictionary\n",
    "input_dict1 = input(\"Enter the first dictionary (in the format {key1: value1, key2: value2}): \")\n",
    "# Input from the user for the second dictionary\n",
    "input_dict2 = input(\"Enter the second dictionary (in the format {key1: value1, key2: value2}): \")\n",
    "\n",
    "# Convert the input strings to dictionaries\n",
    "# Note: eval() is used here for simplicity, but be cautious with it in production code\n",
    "dict1 = eval(input_dict1)\n",
    "dict2 = eval(input_dict2)\n",
    "\n",
    "# Merge the dictionaries\n",
    "merged_result = merge_dictionaries(dict1, dict2)\n",
    "\n",
    "# Print the result\n",
    "print(\"Merged Dictionary:\", merged_result)"
   ]
  },
  {
   "cell_type": "markdown",
   "metadata": {},
   "source": [
    "Q33>>Write a code to access a value in a nested dictionary. The function should take the dictionary and a list of\n",
    "keys as input, and return the corresponding value. If any of the keys do not exist in the dictionary, the\n",
    "function should return None."
   ]
  },
  {
   "cell_type": "code",
   "execution_count": 17,
   "metadata": {},
   "outputs": [
    {
     "name": "stdin",
     "output_type": "stream",
     "text": [
      "Enter a list of keys (comma-separated):  name,age,address,sex\n"
     ]
    },
    {
     "name": "stdout",
     "output_type": "stream",
     "text": [
      "Accessed Value: None\n"
     ]
    }
   ],
   "source": [
    "def access_nested_dict(nested_dict, keys):\n",
    "    \"\"\"Access a value in a nested dictionary using a list of keys.\"\"\"\n",
    "    current_value = nested_dict \n",
    "\n",
    "    for key in keys:\n",
    "    \n",
    "        if isinstance(current_value, dict) and key in current_value:\n",
    "            current_value = current_value[key]  \n",
    "        else:\n",
    "            return None  \n",
    "\n",
    "    return current_value  \n",
    "\n",
    "\n",
    "nested_dictionary = {\n",
    "    'a': {\n",
    "        'b': {\n",
    "            'c': 1,\n",
    "            'd': 2\n",
    "        },\n",
    "        'e': 3\n",
    "    },\n",
    "    'f': 4\n",
    "}\n",
    "\n",
    "input_keys = input(\"Enter a list of keys (comma-separated): \")\n",
    "\n",
    "keys_list = input_keys.split(',')\n",
    "\n",
    "\n",
    "result = access_nested_dict(nested_dictionary, keys_list)\n",
    "\n",
    "\n",
    "print(\"Accessed Value:\", result)"
   ]
  },
  {
   "cell_type": "markdown",
   "metadata": {},
   "source": [
    "Q34>>Write a code that takes a dictionary as input and returns a sorted version of it based on the values. You\n",
    "can choose whether to sort in ascending or descending order."
   ]
  },
  {
   "cell_type": "code",
   "execution_count": 18,
   "metadata": {},
   "outputs": [
    {
     "name": "stdin",
     "output_type": "stream",
     "text": [
      "Enter a dictionary (in the format {key1: value1, key2: value2}):  { 'apple': 2, 'papaya': 3, 'orange': 1, 'guava': 4 }\n",
      "Do you want to sort in ascending order? (yes/no):  yes\n"
     ]
    },
    {
     "name": "stdout",
     "output_type": "stream",
     "text": [
      "Sorted Dictionary: {'orange': 1, 'apple': 2, 'papaya': 3, 'guava': 4}\n"
     ]
    }
   ],
   "source": [
    "def sort_dictionary_by_values(input_dict, ascending=True):\n",
    "    \"\"\"Sort a dictionary by its values.\"\"\"\n",
    "    sorted_dict = dict(sorted(input_dict.items(), key=lambda item: item[1], reverse=not ascending))\n",
    "    return sorted_dict\n",
    "\n",
    "input_dict_str = input(\"Enter a dictionary (in the format {key1: value1, key2: value2}): \")\n",
    "\n",
    "\n",
    "input_dict = eval(input_dict_str)\n",
    "\n",
    "\n",
    "sort_order = input(\"Do you want to sort in ascending order? (yes/no): \").strip().lower()\n",
    "ascending = sort_order == 'yes'\n",
    "\n",
    "\n",
    "sorted_result = sort_dictionary_by_values(input_dict, ascending)\n",
    "\n",
    "\n",
    "print(\"Sorted Dictionary:\", sorted_result)"
   ]
  },
  {
   "cell_type": "markdown",
   "metadata": {},
   "source": [
    "Q35>>Write a code that inverts a dictionary, swapping keys and values. Ensure that the inverted dictionary\n",
    "correctly handles cases where multiple keys have the same value by storing the keys as a list in the\n",
    "inverted dictionary."
   ]
  },
  {
   "cell_type": "code",
   "execution_count": 19,
   "metadata": {},
   "outputs": [
    {
     "name": "stdin",
     "output_type": "stream",
     "text": [
      "Enter a dictionary (in the format {key1: value1, key2: value2}):  {\"a\":2,\"b\":5,\"c\":1,\"d\":5}\n"
     ]
    },
    {
     "name": "stdout",
     "output_type": "stream",
     "text": [
      "Inverted Dictionary: {2: ['a'], 5: ['b', 'd'], 1: ['c']}\n"
     ]
    }
   ],
   "source": [
    "def invert_dictionary(input_dict):\n",
    "    \"\"\"Invert a dictionary, swapping keys and values.\"\"\"\n",
    "    inverted_dict = {}\n",
    "\n",
    "    for key, value in input_dict.items():\n",
    "        \n",
    "        if value in inverted_dict:\n",
    "            inverted_dict[value].append(key)\n",
    "        else:\n",
    "          \n",
    "            inverted_dict[value] = [key]\n",
    "\n",
    "    return inverted_dict\n",
    "\n",
    "\n",
    "input_dict_str = input(\"Enter a dictionary (in the format {key1: value1, key2: value2}): \")\n",
    "\n",
    "input_dict = eval(input_dict_str)\n",
    "\n",
    "inverted_result = invert_dictionary(input_dict)\n",
    "\n",
    "print(\"Inverted Dictionary:\", inverted_result)"
   ]
  },
  {
   "cell_type": "code",
   "execution_count": null,
   "metadata": {},
   "outputs": [],
   "source": []
  }
 ],
 "metadata": {
  "kernelspec": {
   "display_name": "Python 3 (ipykernel)",
   "language": "python",
   "name": "python3"
  },
  "language_info": {
   "codemirror_mode": {
    "name": "ipython",
    "version": 3
   },
   "file_extension": ".py",
   "mimetype": "text/x-python",
   "name": "python",
   "nbconvert_exporter": "python",
   "pygments_lexer": "ipython3",
   "version": "3.13.0"
  }
 },
 "nbformat": 4,
 "nbformat_minor": 4
}
