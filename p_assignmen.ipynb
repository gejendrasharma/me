{
 "cells": [
  {
   "cell_type": "markdown",
   "metadata": {},
   "source": [
    "\n",
    "Q1>>Write a code to reverse a string."
   ]
  },
  {
   "cell_type": "code",
   "execution_count": 1,
   "metadata": {},
   "outputs": [
    {
     "name": "stdout",
     "output_type": "stream",
     "text": [
      "amrahs ardnejag\n"
     ]
    }
   ],
   "source": [
    "s=\"gajendra sharma\"\n",
    "print(s[::-1])"
   ]
  },
  {
   "cell_type": "markdown",
   "metadata": {},
   "source": [
    "Q2>>Write a code to count the number of vowels in a string."
   ]
  },
  {
   "cell_type": "code",
   "execution_count": 1,
   "metadata": {},
   "outputs": [
    {
     "name": "stdout",
     "output_type": "stream",
     "text": [
      "the no of vowels in given string is 12\n"
     ]
    }
   ],
   "source": [
    "p=\"i am here to learn data science\"\n",
    "v=0\n",
    "for ch in p:\n",
    "    if ch in \"aeiouAEIOU\":\n",
    "        v=v+1\n",
    "print(\"the no of vowels in given string is\",v)        "
   ]
  },
  {
   "cell_type": "markdown",
   "metadata": {},
   "source": [
    "Q3>>Write a code to check if a given string is a palindrome or not."
   ]
  },
  {
   "cell_type": "code",
   "execution_count": 5,
   "metadata": {},
   "outputs": [
    {
     "name": "stdout",
     "output_type": "stream",
     "text": [
      "the string is palindrome\n"
     ]
    }
   ],
   "source": [
    "a=\"nitin\"\n",
    "b=a[::-1]\n",
    "if a==b:\n",
    "    print(\"the string is palindrome\")\n",
    "else:\n",
    "    print(\"the string is not palindrome\")   \n",
    "\n"
   ]
  },
  {
   "cell_type": "markdown",
   "metadata": {},
   "source": [
    "Q4>>Write a code to check if two given strings are anagrams of each other.\n"
   ]
  },
  {
   "cell_type": "code",
   "execution_count": 7,
   "metadata": {},
   "outputs": [
    {
     "name": "stdout",
     "output_type": "stream",
     "text": [
      "given strings are anagram with each other\n"
     ]
    }
   ],
   "source": [
    "a=\"abc\"\n",
    "b=\"bca\"\n",
    "if len(a)!=len(b):\n",
    "    print(\"given strings are not anagram with each other\")\n",
    "else:\n",
    "    if sorted(a)==sorted(b):\n",
    "        print(\"given strings are anagram with each other\")  \n",
    "    else:\n",
    "        print(\"given strings are not anagram with each other\")\n"
   ]
  },
  {
   "cell_type": "markdown",
   "metadata": {},
   "source": [
    "Q5>>Write a code to find all occurrences of a given substring within another string."
   ]
  },
  {
   "cell_type": "code",
   "execution_count": 9,
   "metadata": {},
   "outputs": [
    {
     "name": "stdout",
     "output_type": "stream",
     "text": [
      "['p', 'pw', 'pws', 'pwsk', 'pwski', 'pwskil', 'pwskill', 'pwskills', 'w', 'ws', 'wsk', 'wski', 'wskil', 'wskill', 'wskills', 's', 'sk', 'ski', 'skil', 'skill', 'skills', 'k', 'ki', 'kil', 'kill', 'kills', 'i', 'il', 'ill', 'ills', 'l', 'll', 'lls', 'l', 'ls', 's']\n"
     ]
    }
   ],
   "source": [
    "str1=\"pwskills\"\n",
    "subs=[]\n",
    "for i in range(0,len(str1)):\n",
    "    for j in range(i+1,len(str1)+1):\n",
    "        subs.append(str1[i:j])\n",
    "print(subs)        \n"
   ]
  },
  {
   "cell_type": "markdown",
   "metadata": {},
   "source": [
    "Q6>>Write a code to perform basic string compression using the counts of repeated characters."
   ]
  },
  {
   "cell_type": "code",
   "execution_count": 10,
   "metadata": {},
   "outputs": [
    {
     "name": "stdout",
     "output_type": "stream",
     "text": [
      " 4A5B2C1D\n"
     ]
    }
   ],
   "source": [
    "str1=\"AAAABBBBBCCD\"\n",
    "ch=str1[0]\n",
    "result=\" \"\n",
    "count=0\n",
    "str1=str1+\" \"\n",
    "for x in str1:\n",
    "    if ch==x:\n",
    "        count+=1\n",
    "    else:\n",
    "        result=result+str(count)+str(ch)\n",
    "        ch=x\n",
    "        count=1\n",
    "print(result)           \n"
   ]
  },
  {
   "cell_type": "markdown",
   "metadata": {},
   "source": [
    "Q7>>Write a code to determine if a string has all unique characters."
   ]
  },
  {
   "cell_type": "code",
   "execution_count": 14,
   "metadata": {},
   "outputs": [
    {
     "name": "stdout",
     "output_type": "stream",
     "text": [
      "True\n"
     ]
    }
   ],
   "source": [
    "\n",
    "def check_unique(string):\n",
    "    unique_characters=[]\n",
    "    for character in string:\n",
    "        if character in unique_characters:\n",
    "            return False\n",
    "        else:\n",
    "            unique_characters.append(character)\n",
    "    return True\n",
    "print(check_unique(\"abcd\"))        \n",
    "\n"
   ]
  },
  {
   "cell_type": "markdown",
   "metadata": {},
   "source": [
    "Q8>>Write a code to convert a given string to uppercase or lowercase."
   ]
  },
  {
   "cell_type": "code",
   "execution_count": 15,
   "metadata": {},
   "outputs": [
    {
     "name": "stdout",
     "output_type": "stream",
     "text": [
      "GAJENDRA SHARMA\n"
     ]
    }
   ],
   "source": [
    "string=\"gajendra sharma\"\n",
    "a=string.upper()\n",
    "print(a)\n"
   ]
  },
  {
   "cell_type": "markdown",
   "metadata": {},
   "source": [
    "Q9>>Write a code to count the number of words in a string."
   ]
  },
  {
   "cell_type": "code",
   "execution_count": 18,
   "metadata": {},
   "outputs": [
    {
     "name": "stdout",
     "output_type": "stream",
     "text": [
      "the no of words in given list is: 11\n"
     ]
    }
   ],
   "source": [
    "string=\"i am here to learn data science with generative with ai\"\n",
    "a=string.split()\n",
    "print(f\"the no of words in given list is: {len(a)}\")"
   ]
  },
  {
   "cell_type": "markdown",
   "metadata": {},
   "source": [
    "Q10>>Write a code to concatenate two strings without using the + operator."
   ]
  },
  {
   "cell_type": "code",
   "execution_count": 21,
   "metadata": {},
   "outputs": [
    {
     "name": "stdout",
     "output_type": "stream",
     "text": [
      "concatinated string is:  pw skills data science\n"
     ]
    }
   ],
   "source": [
    "def concatinate_strings(str1,str2):\n",
    "    concatinated_string=\"\"\n",
    "\n",
    "    for char in str1:\n",
    "        concatinated_string+=char\n",
    "    for char in str2:\n",
    "        concatinated_string+=char   \n",
    "    return concatinated_string\n",
    "string1=\"pw skills\"\n",
    "string2=\" data science\"  \n",
    "result=concatinate_strings(string1,string2)\n",
    "print(\"concatinated string is: \",result)\n",
    "\n"
   ]
  },
  {
   "cell_type": "markdown",
   "metadata": {},
   "source": [
    "Q11>> Write a code to remove all occurrences of a specific element from a list."
   ]
  },
  {
   "cell_type": "code",
   "execution_count": 22,
   "metadata": {},
   "outputs": [
    {
     "name": "stdout",
     "output_type": "stream",
     "text": [
      "[1, 2, 3, 34, 6, 7, 8.9]\n"
     ]
    }
   ],
   "source": [
    "nums=[1,2,3,34,5,5,5,6,7,8.9]\n",
    "numb=[element for element in nums if element!=5]\n",
    "print(numb)"
   ]
  },
  {
   "cell_type": "markdown",
   "metadata": {},
   "source": [
    "Q12>>Implement a code to find the second largest number in a given list of integers."
   ]
  },
  {
   "cell_type": "code",
   "execution_count": 24,
   "metadata": {},
   "outputs": [
    {
     "name": "stdout",
     "output_type": "stream",
     "text": [
      "The second largest number is: 55\n"
     ]
    }
   ],
   "source": [
    "def find_second_largest(numbers):\n",
    "    unique_numbers = list(set(numbers))\n",
    "    unique_numbers.sort()\n",
    "\n",
    "    if len(unique_numbers) < 2:\n",
    "        return None \n",
    "    return unique_numbers[-2] \n",
    "\n",
    "numbers = [1,2,34,55,90,54,23,32,13]\n",
    "second_largest = find_second_largest(numbers)\n",
    "print(\"The second largest number is:\", second_largest)"
   ]
  },
  {
   "cell_type": "markdown",
   "metadata": {},
   "source": [
    "Q13>>Create a code to count the occurrences of each element in a list and return a dictionary with elements as\n",
    "keys and their counts as values."
   ]
  },
  {
   "cell_type": "code",
   "execution_count": null,
   "metadata": {},
   "outputs": [
    {
     "name": "stdout",
     "output_type": "stream",
     "text": [
      "Occurrences of each element: {1: 4, 2: 2, 3: 2, 4: 1, 5: 2, 'krish': 2, 'mohit': 1}\n"
     ]
    }
   ],
   "source": [
    "from collections import Counter\n",
    "\n",
    "def count_occurrences(elements):\n",
    "    return dict(Counter(elements))\n",
    "\n",
    "elements = [1,1,1,1,2,2,3,3,4,5,5,\"krish\",\"krish\",\"mohit\"]\n",
    "occurrences = count_occurrences(elements)\n",
    "print(\"Occurrences of each element:\", occurrences)"
   ]
  },
  {
   "cell_type": "markdown",
   "metadata": {},
   "source": [
    "Q14>>Write a code to reverse a list in-place without using any built-in reverse functions"
   ]
  },
  {
   "cell_type": "code",
   "execution_count": 27,
   "metadata": {},
   "outputs": [
    {
     "name": "stdout",
     "output_type": "stream",
     "text": [
      "Reversed list: [5, 4, 3, 2, 1]\n"
     ]
    }
   ],
   "source": [
    "def reverse_list_in_place(lst):\n",
    "    left = 0\n",
    "    right = len(lst) - 1\n",
    "\n",
    "    while left < right:\n",
    "        lst[left], lst[right] = lst[right], lst[left]\n",
    "        left += 1\n",
    "        right -= 1\n",
    "\n",
    "my_list = [1, 2, 3, 4, 5]\n",
    "reverse_list_in_place(my_list)\n",
    "print(\"Reversed list:\", my_list)\n"
   ]
  },
  {
   "cell_type": "markdown",
   "metadata": {},
   "source": [
    "Q15>>Implement a code to find and remove duplicates from a list while preserving the original order of elements.\n"
   ]
  },
  {
   "cell_type": "code",
   "execution_count": 28,
   "metadata": {},
   "outputs": [
    {
     "name": "stdout",
     "output_type": "stream",
     "text": [
      "List without duplicates: [1, 2, 3, 4, 5]\n"
     ]
    }
   ],
   "source": [
    "def remove_duplicates(original_list):\n",
    "    seen = set()  \n",
    "    result = []\n",
    "\n",
    "    for item in original_list:\n",
    "        if item not in seen:\n",
    "            seen.add(item) \n",
    "            result.append(item)  \n",
    "\n",
    "    return result\n",
    "\n",
    "my_list = [1, 2, 3, 2, 4, 3, 5, 1]\n",
    "unique_list = remove_duplicates(my_list)\n",
    "print(\"List without duplicates:\", unique_list)"
   ]
  },
  {
   "cell_type": "markdown",
   "metadata": {},
   "source": [
    "Q16>>Create a code to check if a given list is sorted (either in ascending or descending order) or not."
   ]
  },
  {
   "cell_type": "code",
   "execution_count": 29,
   "metadata": {},
   "outputs": [
    {
     "name": "stdout",
     "output_type": "stream",
     "text": [
      "The list is sorted in ascending order.\n",
      "The list is sorted in descending order.\n",
      "The list is not sorted.\n"
     ]
    }
   ],
   "source": [
    "def is_sorted(lst):\n",
    "    if lst == sorted(lst):\n",
    "        return \"The list is sorted in ascending order.\"\n",
    "    elif lst == sorted(lst, reverse=True):\n",
    "        return \"The list is sorted in descending order.\"\n",
    "    else:\n",
    "        return \"The list is not sorted.\"\n",
    "\n",
    "my_list_asc = [1, 2, 3, 4, 5]\n",
    "my_list_desc = [5, 4, 3, 2, 1]\n",
    "my_list_unsorted = [1, 3, 2, 4]\n",
    "\n",
    "print(is_sorted(my_list_asc))      \n",
    "print(is_sorted(my_list_desc))     \n",
    "print(is_sorted(my_list_unsorted))"
   ]
  },
  {
   "cell_type": "markdown",
   "metadata": {},
   "source": [
    "Q17>>Write a code to merge two sorted lists into a single sorted list."
   ]
  },
  {
   "cell_type": "code",
   "execution_count": 34,
   "metadata": {},
   "outputs": [
    {
     "name": "stdout",
     "output_type": "stream",
     "text": [
      "Merged sorted list: [1, 2, 3, 4, 5, 6, 7, 8]\n"
     ]
    }
   ],
   "source": [
    "list1 = [1, 3, 5, 7]\n",
    "list2 = [2, 4, 6, 8]\n",
    "i, j = 0, 0\n",
    "merged_list = []\n",
    "while i < len(list1) and j < len(list2):\n",
    "    if list1[i] < list2[j]:\n",
    "        merged_list.append(list1[i])\n",
    "        i += 1\n",
    "    else:\n",
    "        merged_list.append(list2[j])\n",
    "        j += 1\n",
    "while i < len(list1):\n",
    "    merged_list.append(list1[i])\n",
    "    i += 1\n",
    "while j < len(list2):\n",
    "    merged_list.append(list2[j])\n",
    "    j += 1\n",
    "print(\"Merged sorted list:\", merged_list)\n",
    "a"
   ]
  },
  {
   "cell_type": "markdown",
   "metadata": {},
   "source": [
    "Q18>>Implement a code to find the intersection of two given lists."
   ]
  },
  {
   "cell_type": "code",
   "execution_count": null,
   "metadata": {},
   "outputs": [
    {
     "name": "stdout",
     "output_type": "stream",
     "text": [
      "Intersection of the two lists: [4, 5]\n"
     ]
    }
   ],
   "source": [
    "list1 = [1, 2, 3, 4, 5]\n",
    "list2 = [4, 5, 6, 7, 8]\n",
    "intersection = list(set(list1) & set(list2))\n",
    "print(\"Intersection of the two lists:\", intersection)"
   ]
  },
  {
   "cell_type": "markdown",
   "metadata": {},
   "source": [
    "Q19>>Create a code to find the union of two lists without duplicates."
   ]
  },
  {
   "cell_type": "code",
   "execution_count": 40,
   "metadata": {},
   "outputs": [
    {
     "name": "stdout",
     "output_type": "stream",
     "text": [
      "Union of the two lists: [1, 2, 3, 4, 5, 6, 7, 8]\n"
     ]
    }
   ],
   "source": [
    "list1 = [1, 2, 3, 4, 5]\n",
    "list2 = [4, 5, 6, 7, 8]\n",
    "union = set(list1).union(set(list2))\n",
    "union_list = list(union)\n",
    "\n",
    "print(\"Union of the two lists:\", union_list)"
   ]
  },
  {
   "cell_type": "markdown",
   "metadata": {},
   "source": [
    "20>>"
   ]
  },
  {
   "cell_type": "code",
   "execution_count": 41,
   "metadata": {},
   "outputs": [
    {
     "name": "stdout",
     "output_type": "stream",
     "text": [
      "Original list: [1, 2, 3, 4, 5]\n",
      "Shuffled list: [5, 3, 4, 1, 2]\n"
     ]
    }
   ],
   "source": [
    "import random\n",
    "\n",
    "def shuffle_list(input_list):\n",
    "    shuffled_list = input_list.copy()\n",
    "    n = len(shuffled_list)\n",
    "\n",
    "    \n",
    "    for i in range(n - 1, 0, -1):\n",
    "        \n",
    "        j = random.randint(0, i)\n",
    "        shuffled_list[i], shuffled_list[j] = shuffled_list[j], shuffled_list[i]\n",
    "\n",
    "    return shuffled_list\n",
    "\n",
    "original_list = [1, 2, 3, 4, 5]\n",
    "shuffled = shuffle_list(original_list)\n",
    "\n",
    "print(\"Original list:\", original_list)\n",
    "print(\"Shuffled list:\", shuffled)"
   ]
  },
  {
   "cell_type": "markdown",
   "metadata": {},
   "source": []
  }
 ],
 "metadata": {
  "kernelspec": {
   "display_name": "Python 3",
   "language": "python",
   "name": "python3"
  },
  "language_info": {
   "codemirror_mode": {
    "name": "ipython",
    "version": 3
   },
   "file_extension": ".py",
   "mimetype": "text/x-python",
   "name": "python",
   "nbconvert_exporter": "python",
   "pygments_lexer": "ipython3",
   "version": "3.13.0"
  }
 },
 "nbformat": 4,
 "nbformat_minor": 2
}
